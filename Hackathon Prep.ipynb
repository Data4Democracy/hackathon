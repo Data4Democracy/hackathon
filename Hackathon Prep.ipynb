{
 "cells": [
  {
   "cell_type": "markdown",
   "metadata": {},
   "source": [
    "![Hackathon Logo](https://cdn-images-1.medium.com/max/1000/1*ugzFgxdPtS4LSsKvibclUQ.png)"
   ]
  },
  {
   "cell_type": "markdown",
   "metadata": {},
   "source": [
    "# Hackathon Prep"
   ]
  },
  {
   "cell_type": "markdown",
   "metadata": {},
   "source": [
    "## Agenda\n",
    " 1. Upcoming Events\n",
    " 2. Data.World Announcement\n",
    " 3. What is a Hackathon?\n",
    " 4. When is the event?\n",
    " 5. Where can I particpate?\n",
    " 6. Who can participate?\n",
    " 7. How to participate?\n",
    " 8. How to prep for the hackathon?\n",
    " 9. Other Tips and Tricks"
   ]
  },
  {
   "cell_type": "markdown",
   "metadata": {},
   "source": [
    "************************************************************************************************************************"
   ]
  },
  {
   "cell_type": "markdown",
   "metadata": {},
   "source": [
    "## Upcoming D4D Events\n",
    "- March 28th\n",
    " - Pandas Tutorial Con't* - Part 2 of our Pandas turorial\n",
    "- March 31st 6PM EDT - April 2 2PM EDT\n",
    "- April 3rd\n",
    " - Hackathon Post Mortem*- What worked? What could be improved upon?"
   ]
  },
  {
   "cell_type": "markdown",
   "metadata": {},
   "source": [
    "## Special Message From Data.World"
   ]
  },
  {
   "cell_type": "markdown",
   "metadata": {
    "collapsed": false,
    "scrolled": true
   },
   "source": [
    "[![Data.World Announcement](https://img.youtube.com/vi/C1ySTx7-1a8/0.jpg)](https://youtu.be/C1ySTx7-1a8 \"Data.World Announcement\")\n",
    "\n",
    "Youtube Link: https://youtu.be/C1ySTx7-1a8\n",
    "### Resources:\n",
    "[Data.World Hackathon Resource](https://data.world/data4democracy/d-4-d-hackathon-march-2017 \"Data.World Hackathon Resource\")\n"
   ]
  },
  {
   "cell_type": "markdown",
   "metadata": {},
   "source": [
    "## What is a Hackathon?"
   ]
  },
  {
   "cell_type": "markdown",
   "metadata": {},
   "source": [
    "![hackathon definition](images/definition.png)"
   ]
  },
  {
   "cell_type": "markdown",
   "metadata": {},
   "source": [
    "source: https://www.mshdistrict.com/blog/2015/3/25/lets-breakdown-why-the-hack-a-thon-is-for-you"
   ]
  },
  {
   "cell_type": "markdown",
   "metadata": {},
   "source": [
    "## When is the event?\n",
    "### March 31 (Friday), 6 pm EDT - April 2 (Sunday), 2 pm EDT.\n",
    "- Friday 6:00PM - Kick off meeting \n",
    "- Sunday 2:00PM - Community Showcase"
   ]
  },
  {
   "cell_type": "markdown",
   "metadata": {},
   "source": [
    "## Who can Participate?\n",
    "\n",
    "- Anyone registered D4D memeber.\n",
    "- Have a friend that wants to participate?\n",
    "  - Fill out the contact form here. http://datafordemocracy.org/contact.html"
   ]
  },
  {
   "cell_type": "markdown",
   "metadata": {},
   "source": [
    "## Where can I participate?\n",
    "\n",
    "### On Site\n",
    "![map of locations](images/map.png)"
   ]
  },
  {
   "cell_type": "markdown",
   "metadata": {},
   "source": [
    "\n",
    "| Cities        | Key Contacts                       | Remote Participants? | Eventbrite Links |\n",
    "|---------------|------------------------------------|----------------------|------------------|\n",
    "| Austin        | @shreyas @gabriela                 |                      | [Austin Link](https://www.eventbrite.com/e/data4democracy-hackathon-austin-tickets-32887683948) |\n",
    "| Boston        | @jeffliu @bpben                    |                      | [Boston Link](https://www.eventbrite.com/e/data-for-democracy-hackathon-boston-tickets-33088552752) |\n",
    "| Chicago       | @skirmer @lilianhj @mlucas @amoon  | No                   | [Chicago](https://www.meetup.com/Metis-Chicago-Data-Science/events/238326371/)|\n",
    "| DC            | @redoakmark @chris_dick @jonathon  |                      | [DC](https://www.eventbrite.com/e/data4democracy-hackathon-dc-tickets-32883442261)\n",
    "| Louisville    | @margeaux @eric_bickel @rkahne     | No                   | [Louisville](https://www.eventbrite.com/e/data-for-democracy-louisville-hack-a-thon-tickets-33048900150)\n",
    "| New York      | @danielah @henripal                | Yes                  | [NYC](https://www.eventbrite.com/e/data-for-democracy-hackathon-nyc-tickets-33021075927)\n",
    "| Seattle       | @grichardson @zachmueller @jtorrez | Yes                  | [Seattle](https://www.eventbrite.com/e/data-for-democracy-hackathon-seattle-tickets-32966017245)\n",
    "\n",
    "### Remote\n",
    "- Participate in the local meetups via Google Hangout. \n",
    "- Join a participating project, listed below, and participate their Hangout.\n",
    "- Join the general channel hangout, link coming soon!\n",
    "\n",
    "\n",
    "\n",
    "\n",
    "\n",
    "\n",
    "\n",
    "\n"
   ]
  },
  {
   "cell_type": "markdown",
   "metadata": {},
   "source": [
    "## How Can I Participate?\n",
    "- Participating D4D Projects\n",
    "\n",
    "\n",
    "| Projects                 | Key Contacts                           |\n",
    "| -------------------------|----------------------------------------|\n",
    "| #usa-dashboard           | @sjt                                   |\n",
    "| #far-right               | @jonathon                              |\n",
    "| #election-transparency   | @chrisdick, @rachelanddata, @scottcame |\n",
    "| #assemble                | @bstarling                             |\n",
    "| #immigration-connect     | @jtorrez                               |\n",
    "| #political-ads           | @pratheekrebala                        |\n",
    "| #p-boston-crash-modeling | @bpben, @catsinthecloud                |\n",
    "\n",
    "\n",
    "Join the project channel of interest, reach out to the key contact(s), join the conversations, and look for the on github. Participating projects will be hosting their own Google Hangouts for people to meet each other and collaborate. Slack will also be available for messaging.\n",
    "\n",
    "-  Pitch your own project on #project-ideas\n",
    " - If you have had a project idea that you've been itching to scratch, post it on #project-ideas. Project-Ideas is a channel devoted to helping people vet, see if the idea is feasible, and find potential project participants. #onboarding is another great channel to find people.\n",
    "\n",
    "- Want to participate but want to go solo?\n",
    " - That is fine! If you would like to participate in the Sunday showcase, please let us know!  \n"
   ]
  },
  {
   "cell_type": "markdown",
   "metadata": {},
   "source": [
    "## Prepping for the hackathon\n",
    "\n",
    "### Environment\n",
    "Make sure your envinronment is set up and ready to go. If you are joining an established project, download the git repo and follow the readme. \n",
    "\n",
    "### Prep your data\n",
    "Whether you're pitching a new project or joining a participating project, spend a little time in downloading the data that you need. This way you are not spending some of the hackathon time on locating data.\n",
    "\n",
    "### Snacks\n",
    "Get some snacks, caffine, and water ready! Remember, caffine is a tool and to not abuse it during this weekend.\n"
   ]
  },
  {
   "cell_type": "code",
   "execution_count": null,
   "metadata": {
    "collapsed": true
   },
   "outputs": [],
   "source": []
  }
 ],
 "metadata": {
  "kernelspec": {
   "display_name": "Python 3",
   "language": "python",
   "name": "python3"
  },
  "language_info": {
   "codemirror_mode": {
    "name": "ipython",
    "version": 3
   },
   "file_extension": ".py",
   "mimetype": "text/x-python",
   "name": "python",
   "nbconvert_exporter": "python",
   "pygments_lexer": "ipython3",
   "version": "3.4.4"
  }
 },
 "nbformat": 4,
 "nbformat_minor": 2
}
